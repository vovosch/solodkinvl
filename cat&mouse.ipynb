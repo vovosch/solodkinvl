{
 "cells": [
  {
   "cell_type": "code",
   "execution_count": 33,
   "id": "fb0340e8",
   "metadata": {},
   "outputs": [],
   "source": [
    "import pandas as pd\n",
    "import seaborn as sns"
   ]
  },
  {
   "cell_type": "code",
   "execution_count": 7,
   "id": "9309faa5",
   "metadata": {},
   "outputs": [],
   "source": [
    "sns.set_theme(style=\"darkgrid\")"
   ]
  },
  {
   "cell_type": "code",
   "execution_count": 2,
   "id": "7e448acc",
   "metadata": {},
   "outputs": [
    {
     "data": {
      "text/html": [
       "<div>\n",
       "<style scoped>\n",
       "    .dataframe tbody tr th:only-of-type {\n",
       "        vertical-align: middle;\n",
       "    }\n",
       "\n",
       "    .dataframe tbody tr th {\n",
       "        vertical-align: top;\n",
       "    }\n",
       "\n",
       "    .dataframe thead th {\n",
       "        text-align: right;\n",
       "    }\n",
       "</style>\n",
       "<table border=\"1\" class=\"dataframe\">\n",
       "  <thead>\n",
       "    <tr style=\"text-align: right;\">\n",
       "      <th></th>\n",
       "      <th>t</th>\n",
       "      <th>rCat.x</th>\n",
       "      <th>rCat.y</th>\n",
       "      <th>rMouse.x</th>\n",
       "      <th>rMouse.y</th>\n",
       "      <th>velCat.x</th>\n",
       "      <th>velCat.y</th>\n",
       "      <th>velMouse.x</th>\n",
       "      <th>velMouse.y</th>\n",
       "      <th>delta</th>\n",
       "    </tr>\n",
       "  </thead>\n",
       "  <tbody>\n",
       "    <tr>\n",
       "      <th>0</th>\n",
       "      <td>0.0</td>\n",
       "      <td>-3.0</td>\n",
       "      <td>-3.0</td>\n",
       "      <td>-1.000000</td>\n",
       "      <td>-1.000000</td>\n",
       "      <td>1</td>\n",
       "      <td>1</td>\n",
       "      <td>0.500000</td>\n",
       "      <td>0.500000</td>\n",
       "      <td>2.828427</td>\n",
       "    </tr>\n",
       "    <tr>\n",
       "      <th>1</th>\n",
       "      <td>0.1</td>\n",
       "      <td>-2.9</td>\n",
       "      <td>-2.9</td>\n",
       "      <td>-0.950000</td>\n",
       "      <td>-0.950000</td>\n",
       "      <td>1</td>\n",
       "      <td>1</td>\n",
       "      <td>0.505224</td>\n",
       "      <td>0.505224</td>\n",
       "      <td>2.757716</td>\n",
       "    </tr>\n",
       "    <tr>\n",
       "      <th>2</th>\n",
       "      <td>0.2</td>\n",
       "      <td>-2.8</td>\n",
       "      <td>-2.8</td>\n",
       "      <td>-0.899478</td>\n",
       "      <td>-0.899478</td>\n",
       "      <td>1</td>\n",
       "      <td>1</td>\n",
       "      <td>0.510413</td>\n",
       "      <td>0.510413</td>\n",
       "      <td>2.687745</td>\n",
       "    </tr>\n",
       "    <tr>\n",
       "      <th>3</th>\n",
       "      <td>0.3</td>\n",
       "      <td>-2.7</td>\n",
       "      <td>-2.7</td>\n",
       "      <td>-0.848436</td>\n",
       "      <td>-0.848436</td>\n",
       "      <td>1</td>\n",
       "      <td>1</td>\n",
       "      <td>0.515567</td>\n",
       "      <td>0.515567</td>\n",
       "      <td>2.618507</td>\n",
       "    </tr>\n",
       "    <tr>\n",
       "      <th>4</th>\n",
       "      <td>0.4</td>\n",
       "      <td>-2.6</td>\n",
       "      <td>-2.6</td>\n",
       "      <td>-0.796880</td>\n",
       "      <td>-0.796880</td>\n",
       "      <td>1</td>\n",
       "      <td>1</td>\n",
       "      <td>0.520684</td>\n",
       "      <td>0.520684</td>\n",
       "      <td>2.549997</td>\n",
       "    </tr>\n",
       "  </tbody>\n",
       "</table>\n",
       "</div>"
      ],
      "text/plain": [
       "     t  rCat.x  rCat.y  rMouse.x  rMouse.y  velCat.x  velCat.y  velMouse.x  \\\n",
       "0  0.0    -3.0    -3.0 -1.000000 -1.000000         1         1    0.500000   \n",
       "1  0.1    -2.9    -2.9 -0.950000 -0.950000         1         1    0.505224   \n",
       "2  0.2    -2.8    -2.8 -0.899478 -0.899478         1         1    0.510413   \n",
       "3  0.3    -2.7    -2.7 -0.848436 -0.848436         1         1    0.515567   \n",
       "4  0.4    -2.6    -2.6 -0.796880 -0.796880         1         1    0.520684   \n",
       "\n",
       "   velMouse.y     delta  \n",
       "0    0.500000  2.828427  \n",
       "1    0.505224  2.757716  \n",
       "2    0.510413  2.687745  \n",
       "3    0.515567  2.618507  \n",
       "4    0.520684  2.549997  "
      ]
     },
     "execution_count": 2,
     "metadata": {},
     "output_type": "execute_result"
    }
   ],
   "source": [
    "df = pd.read_csv(\"example.csv\")\n",
    "df.head()"
   ]
  },
  {
   "cell_type": "code",
   "execution_count": 16,
   "id": "b1663d2d",
   "metadata": {},
   "outputs": [
    {
     "data": {
      "text/html": [
       "<div>\n",
       "<style scoped>\n",
       "    .dataframe tbody tr th:only-of-type {\n",
       "        vertical-align: middle;\n",
       "    }\n",
       "\n",
       "    .dataframe tbody tr th {\n",
       "        vertical-align: top;\n",
       "    }\n",
       "\n",
       "    .dataframe thead th {\n",
       "        text-align: right;\n",
       "    }\n",
       "</style>\n",
       "<table border=\"1\" class=\"dataframe\">\n",
       "  <thead>\n",
       "    <tr style=\"text-align: right;\">\n",
       "      <th></th>\n",
       "      <th>t</th>\n",
       "      <th>rCat.x</th>\n",
       "      <th>rCat.y</th>\n",
       "      <th>rMouse.x</th>\n",
       "      <th>rMouse.y</th>\n",
       "    </tr>\n",
       "  </thead>\n",
       "  <tbody>\n",
       "    <tr>\n",
       "      <th>0</th>\n",
       "      <td>0.0</td>\n",
       "      <td>-3.0</td>\n",
       "      <td>-3.0</td>\n",
       "      <td>-1.000000</td>\n",
       "      <td>-1.000000</td>\n",
       "    </tr>\n",
       "    <tr>\n",
       "      <th>1</th>\n",
       "      <td>0.1</td>\n",
       "      <td>-2.9</td>\n",
       "      <td>-2.9</td>\n",
       "      <td>-0.950000</td>\n",
       "      <td>-0.950000</td>\n",
       "    </tr>\n",
       "    <tr>\n",
       "      <th>2</th>\n",
       "      <td>0.2</td>\n",
       "      <td>-2.8</td>\n",
       "      <td>-2.8</td>\n",
       "      <td>-0.899478</td>\n",
       "      <td>-0.899478</td>\n",
       "    </tr>\n",
       "    <tr>\n",
       "      <th>3</th>\n",
       "      <td>0.3</td>\n",
       "      <td>-2.7</td>\n",
       "      <td>-2.7</td>\n",
       "      <td>-0.848436</td>\n",
       "      <td>-0.848436</td>\n",
       "    </tr>\n",
       "    <tr>\n",
       "      <th>4</th>\n",
       "      <td>0.4</td>\n",
       "      <td>-2.6</td>\n",
       "      <td>-2.6</td>\n",
       "      <td>-0.796880</td>\n",
       "      <td>-0.796880</td>\n",
       "    </tr>\n",
       "  </tbody>\n",
       "</table>\n",
       "</div>"
      ],
      "text/plain": [
       "     t  rCat.x  rCat.y  rMouse.x  rMouse.y\n",
       "0  0.0    -3.0    -3.0 -1.000000 -1.000000\n",
       "1  0.1    -2.9    -2.9 -0.950000 -0.950000\n",
       "2  0.2    -2.8    -2.8 -0.899478 -0.899478\n",
       "3  0.3    -2.7    -2.7 -0.848436 -0.848436\n",
       "4  0.4    -2.6    -2.6 -0.796880 -0.796880"
      ]
     },
     "execution_count": 16,
     "metadata": {},
     "output_type": "execute_result"
    }
   ],
   "source": [
    "df1 = df.drop([\"velCat.x\", \"velCat.y\", \"velMouse.x\", \"velMouse.y\", \"delta\"], axis=1)\n",
    "df1.head()"
   ]
  },
  {
   "cell_type": "code",
   "execution_count": 19,
   "id": "22ba604a",
   "metadata": {},
   "outputs": [
    {
     "data": {
      "text/html": [
       "<div>\n",
       "<style scoped>\n",
       "    .dataframe tbody tr th:only-of-type {\n",
       "        vertical-align: middle;\n",
       "    }\n",
       "\n",
       "    .dataframe tbody tr th {\n",
       "        vertical-align: top;\n",
       "    }\n",
       "\n",
       "    .dataframe thead th {\n",
       "        text-align: right;\n",
       "    }\n",
       "</style>\n",
       "<table border=\"1\" class=\"dataframe\">\n",
       "  <thead>\n",
       "    <tr style=\"text-align: right;\">\n",
       "      <th></th>\n",
       "      <th>t</th>\n",
       "      <th>cols</th>\n",
       "      <th>coords</th>\n",
       "    </tr>\n",
       "  </thead>\n",
       "  <tbody>\n",
       "    <tr>\n",
       "      <th>0</th>\n",
       "      <td>0.0</td>\n",
       "      <td>rCat.x</td>\n",
       "      <td>-3.0</td>\n",
       "    </tr>\n",
       "    <tr>\n",
       "      <th>1</th>\n",
       "      <td>0.1</td>\n",
       "      <td>rCat.x</td>\n",
       "      <td>-2.9</td>\n",
       "    </tr>\n",
       "    <tr>\n",
       "      <th>2</th>\n",
       "      <td>0.2</td>\n",
       "      <td>rCat.x</td>\n",
       "      <td>-2.8</td>\n",
       "    </tr>\n",
       "    <tr>\n",
       "      <th>3</th>\n",
       "      <td>0.3</td>\n",
       "      <td>rCat.x</td>\n",
       "      <td>-2.7</td>\n",
       "    </tr>\n",
       "    <tr>\n",
       "      <th>4</th>\n",
       "      <td>0.4</td>\n",
       "      <td>rCat.x</td>\n",
       "      <td>-2.6</td>\n",
       "    </tr>\n",
       "  </tbody>\n",
       "</table>\n",
       "</div>"
      ],
      "text/plain": [
       "     t    cols  coords\n",
       "0  0.0  rCat.x    -3.0\n",
       "1  0.1  rCat.x    -2.9\n",
       "2  0.2  rCat.x    -2.8\n",
       "3  0.3  rCat.x    -2.7\n",
       "4  0.4  rCat.x    -2.6"
      ]
     },
     "execution_count": 19,
     "metadata": {},
     "output_type": "execute_result"
    }
   ],
   "source": [
    "df1 = df1.melt(\"t\", var_name=\"cols\", value_name=\"coords\")\n",
    "df1.head()"
   ]
  },
  {
   "cell_type": "code",
   "execution_count": 25,
   "id": "d80d1e65",
   "metadata": {},
   "outputs": [
    {
     "data": {
      "text/html": [
       "<div>\n",
       "<style scoped>\n",
       "    .dataframe tbody tr th:only-of-type {\n",
       "        vertical-align: middle;\n",
       "    }\n",
       "\n",
       "    .dataframe tbody tr th {\n",
       "        vertical-align: top;\n",
       "    }\n",
       "\n",
       "    .dataframe thead th {\n",
       "        text-align: right;\n",
       "    }\n",
       "</style>\n",
       "<table border=\"1\" class=\"dataframe\">\n",
       "  <thead>\n",
       "    <tr style=\"text-align: right;\">\n",
       "      <th></th>\n",
       "      <th>t</th>\n",
       "      <th>cols</th>\n",
       "      <th>vel</th>\n",
       "    </tr>\n",
       "  </thead>\n",
       "  <tbody>\n",
       "    <tr>\n",
       "      <th>0</th>\n",
       "      <td>0.0</td>\n",
       "      <td>velCat.x</td>\n",
       "      <td>1.0</td>\n",
       "    </tr>\n",
       "    <tr>\n",
       "      <th>1</th>\n",
       "      <td>0.1</td>\n",
       "      <td>velCat.x</td>\n",
       "      <td>1.0</td>\n",
       "    </tr>\n",
       "    <tr>\n",
       "      <th>2</th>\n",
       "      <td>0.2</td>\n",
       "      <td>velCat.x</td>\n",
       "      <td>1.0</td>\n",
       "    </tr>\n",
       "    <tr>\n",
       "      <th>3</th>\n",
       "      <td>0.3</td>\n",
       "      <td>velCat.x</td>\n",
       "      <td>1.0</td>\n",
       "    </tr>\n",
       "    <tr>\n",
       "      <th>4</th>\n",
       "      <td>0.4</td>\n",
       "      <td>velCat.x</td>\n",
       "      <td>1.0</td>\n",
       "    </tr>\n",
       "  </tbody>\n",
       "</table>\n",
       "</div>"
      ],
      "text/plain": [
       "     t      cols  vel\n",
       "0  0.0  velCat.x  1.0\n",
       "1  0.1  velCat.x  1.0\n",
       "2  0.2  velCat.x  1.0\n",
       "3  0.3  velCat.x  1.0\n",
       "4  0.4  velCat.x  1.0"
      ]
     },
     "execution_count": 25,
     "metadata": {},
     "output_type": "execute_result"
    }
   ],
   "source": [
    "df2 = df.drop([\"rCat.x\", \"rCat.y\", \"rMouse.x\", \"rMouse.y\", \"delta\"], axis=1)\n",
    "df2 = df2.melt(\"t\", var_name=\"cols\", value_name=\"vel\")\n",
    "df2.head()"
   ]
  },
  {
   "cell_type": "code",
   "execution_count": 35,
   "id": "5282cb37",
   "metadata": {},
   "outputs": [
    {
     "data": {
      "text/plain": [
       "<seaborn.axisgrid.FacetGrid at 0x23a69180f40>"
      ]
     },
     "execution_count": 35,
     "metadata": {},
     "output_type": "execute_result"
    },
    {
     "data": {
      "image/png": "[encoded data removed]",
      "text/plain": [
       "<Figure size 360x360 with 1 Axes>"
      ]
     },
     "metadata": {},
     "output_type": "display_data"
    },
    {
     "data": {
      "image/png": "[encoded data removed]",
      "text/plain": [
       "<Figure size 444.975x360 with 1 Axes>"
      ]
     },
     "metadata": {},
     "output_type": "display_data"
    },
    {
     "data": {
      "image/png": "[encoded data removed]",
      "text/plain": [
       "<Figure size 455.35x360 with 1 Axes>"
      ]
     },
     "metadata": {},
     "output_type": "display_data"
    }
   ],
   "source": [
    "sns.relplot(data=df, x=\"t\", y=\"delta\", kind=\"line\")\n",
    "sns.relplot(data=df1, x=\"t\", y=\"coords\", hue=\"cols\", kind=\"line\")\n",
    "sns.relplot(data=df2, x=\"t\", y=\"vel\", hue=\"cols\", kind=\"line\")"
   ]
  }
 ],
 "metadata": {
  "kernelspec": {
   "display_name": "Python 3",
   "language": "python",
   "name": "python3"
  },
  "language_info": {
   "codemirror_mode": {
    "name": "ipython",
    "version": 3
   },
   "file_extension": ".py",
   "mimetype": "text/x-python",
   "name": "python",
   "nbconvert_exporter": "python",
   "pygments_lexer": "ipython3",
   "version": "3.8.8"
  }
 },
 "nbformat": 4,
 "nbformat_minor": 5
}
